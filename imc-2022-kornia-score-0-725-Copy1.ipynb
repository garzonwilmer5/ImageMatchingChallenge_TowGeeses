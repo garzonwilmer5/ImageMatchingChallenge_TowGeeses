{
 "cells": [
  {
   "cell_type": "markdown",
   "metadata": {
    "papermill": {
     "duration": 0.014409,
     "end_time": "2022-04-22T17:27:27.894541",
     "exception": false,
     "start_time": "2022-04-22T17:27:27.880132",
     "status": "completed"
    },
    "tags": []
   },
   "source": [
    "## Welcome Back Kagglers \n",
    "\n",
    "credit : https://www.kaggle.com/code/ammarali32/imc-2022-kornia-loftr-from-0-533-to-0-721"
   ]
  },
  {
   "cell_type": "markdown",
   "metadata": {
    "papermill": {
     "duration": 0.012648,
     "end_time": "2022-04-22T17:27:27.921559",
     "exception": false,
     "start_time": "2022-04-22T17:27:27.908911",
     "status": "completed"
    },
    "tags": []
   },
   "source": [
    "\n",
    "<center>\n",
    "    <h2 style=\"color: #022047\"> If you found it useful please upvote  </h2>\n",
    "</center>\n",
    "\n",
    "![](https://storage.googleapis.com/kaggle-media/competitions/google-image-matching/trevi-canvas-licensed-nonoderivs.jpg)"
   ]
  },
  {
   "cell_type": "markdown",
   "metadata": {
    "papermill": {
     "duration": 0.017024,
     "end_time": "2022-04-22T17:28:29.855950",
     "exception": false,
     "start_time": "2022-04-22T17:28:29.838926",
     "status": "completed"
    },
    "tags": []
   },
   "source": [
    "# ***Import dependencies***"
   ]
  },
  {
   "cell_type": "code",
   "execution_count": 1,
   "metadata": {
    "execution": {
     "iopub.execute_input": "2022-04-22T17:28:29.897592Z",
     "iopub.status.busy": "2022-04-22T17:28:29.896601Z",
     "iopub.status.idle": "2022-04-22T17:28:32.341957Z",
     "shell.execute_reply": "2022-04-22T17:28:32.342525Z",
     "shell.execute_reply.started": "2022-04-14T18:50:36.769393Z"
    },
    "papermill": {
     "duration": 2.469375,
     "end_time": "2022-04-22T17:28:32.342741",
     "exception": false,
     "start_time": "2022-04-22T17:28:29.873366",
     "status": "completed"
    },
    "tags": []
   },
   "outputs": [
    {
     "name": "stderr",
     "output_type": "stream",
     "text": [
      "\n",
      "Bad key \"text.kerning_factor\" on line 4 in\n",
      "/home/wilmer/anaconda3/envs/p37/lib/python3.7/site-packages/matplotlib/mpl-data/stylelib/_classic_test_patch.mplstyle.\n",
      "You probably need to get an updated matplotlibrc file from\n",
      "https://github.com/matplotlib/matplotlib/blob/v3.1.2/matplotlibrc.template\n",
      "or from the matplotlib source distribution\n"
     ]
    }
   ],
   "source": [
    "import os\n",
    "import numpy as np\n",
    "import cv2\n",
    "import csv\n",
    "from glob import glob\n",
    "import torch\n",
    "import matplotlib.pyplot as plt\n",
    "import kornia\n",
    "from kornia_moons.feature import *\n",
    "import kornia as K\n",
    "import kornia.feature as KF\n",
    "import gc\n",
    "import time\n",
    "from sklearn.linear_model import LinearRegression\n"
   ]
  },
  {
   "cell_type": "markdown",
   "metadata": {
    "papermill": {
     "duration": 0.01725,
     "end_time": "2022-04-22T17:28:32.378076",
     "exception": false,
     "start_time": "2022-04-22T17:28:32.360826",
     "status": "completed"
    },
    "tags": []
   },
   "source": [
    "# ***Model***"
   ]
  },
  {
   "cell_type": "code",
   "execution_count": 2,
   "metadata": {
    "execution": {
     "iopub.execute_input": "2022-04-22T17:28:32.422197Z",
     "iopub.status.busy": "2022-04-22T17:28:32.421334Z",
     "iopub.status.idle": "2022-04-22T17:28:37.138551Z",
     "shell.execute_reply": "2022-04-22T17:28:37.137521Z",
     "shell.execute_reply.started": "2022-04-14T18:50:38.800116Z"
    },
    "papermill": {
     "duration": 4.74373,
     "end_time": "2022-04-22T17:28:37.138754",
     "exception": false,
     "start_time": "2022-04-22T17:28:32.395024",
     "status": "completed"
    },
    "tags": []
   },
   "outputs": [
    {
     "data": {
      "text/plain": [
       "<All keys matched successfully>"
      ]
     },
     "execution_count": 2,
     "metadata": {},
     "output_type": "execute_result"
    }
   ],
   "source": [
    "matcher = KF.LoFTR(pretrained=None)\n",
    "matcher.load_state_dict(torch.load(\"loftr_outdoor.ckpt\")['state_dict'])\n",
    "\n",
    "#device = torch.device('cuda')\n",
    "#matcher = matcher.to(device).eval()"
   ]
  },
  {
   "cell_type": "markdown",
   "metadata": {
    "papermill": {
     "duration": 0.016801,
     "end_time": "2022-04-22T17:28:37.172981",
     "exception": false,
     "start_time": "2022-04-22T17:28:37.156180",
     "status": "completed"
    },
    "tags": []
   },
   "source": [
    "## *Utils*"
   ]
  },
  {
   "cell_type": "code",
   "execution_count": 3,
   "metadata": {
    "execution": {
     "iopub.execute_input": "2022-04-22T17:28:37.217830Z",
     "iopub.status.busy": "2022-04-22T17:28:37.216896Z",
     "iopub.status.idle": "2022-04-22T17:28:37.224713Z",
     "shell.execute_reply": "2022-04-22T17:28:37.225223Z",
     "shell.execute_reply.started": "2022-04-14T19:00:59.104276Z"
    },
    "papermill": {
     "duration": 0.035034,
     "end_time": "2022-04-22T17:28:37.225380",
     "exception": false,
     "start_time": "2022-04-22T17:28:37.190346",
     "status": "completed"
    },
    "tags": []
   },
   "outputs": [],
   "source": [
    "src = 'image-matching-challenge-2022/'\n",
    "\n",
    "test_samples = []\n",
    "with open(f'{src}/test.csv') as f:\n",
    "    reader = csv.reader(f, delimiter=',')\n",
    "    for i, row in enumerate(reader):\n",
    "        # Skip header.\n",
    "        if i == 0:\n",
    "            continue\n",
    "        test_samples += [row]\n",
    "\n",
    "\n",
    "def FlattenMatrix(M, num_digits=8):\n",
    "    '''Convenience function to write CSV files.'''\n",
    "    \n",
    "    return ' '.join([f'{v:.{num_digits}e}' for v in M.flatten()])\n",
    "\n",
    "\n",
    "def load_torch_image(fname):\n",
    "    img = cv2.imread(fname)\n",
    "    scale = 840 / max(img.shape[0], img.shape[1]) \n",
    "    w = int(img.shape[1] * scale)\n",
    "    h = int(img.shape[0] * scale)\n",
    "    img = cv2.resize(img, (w, h))\n",
    "    img = K.image_to_tensor(img, False).float() /255.\n",
    "    img = K.color.bgr_to_rgb(img)\n",
    "    return img\n",
    "\n",
    "def linearRegresionF(p1,p2):\n",
    "    regresor = LinearRegression( fit_intercept=False)\n",
    "    A = np.empty((p1.shape[0],9))\n",
    "    y = np.zeros((p1.shape[0],)) \n",
    "    for i, (x1, x2) in enumerate(zip(p1, p2)):\n",
    "        A[i,0] = x1[0]*x2[0]\n",
    "        A[i,1] = x1[0]*x2[1]\n",
    "        A[i,2] = x1[0]\n",
    "        A[i,3] = x1[1]*x2[0]\n",
    "        A[i,4] = x1[1]*x2[1]\n",
    "        A[i,5] = x1[1]\n",
    "        A[i,6] = x2[0]\n",
    "        A[i,7] = x2[1]\n",
    "        A[i,8] = 1\n",
    "                        \n",
    "    reg = regresor.fit(A, y)\n",
    "                        \n",
    "    F = np.empty((3,3))\n",
    "    F[0,0] = reg.coef_[0]\n",
    "    F[1,0] = reg.coef_[1]\n",
    "    F[2,0] = reg.coef_[2]\n",
    "    F[0,1] = reg.coef_[3]\n",
    "    F[1,1] = reg.coef_[4]\n",
    "    F[2,1] = reg.coef_[5]\n",
    "    F[0,2] = reg.coef_[6]\n",
    "    F[1,2] = reg.coef_[7]\n",
    "    F[2,2] = reg.coef_[8]\n",
    "    return F\n",
    "                    \n",
    "    \n",
    "                        \n",
    "                        \n",
    "                        "
   ]
  },
  {
   "cell_type": "code",
   "execution_count": 4,
   "metadata": {},
   "outputs": [
    {
     "name": "stdout",
     "output_type": "stream",
     "text": [
      "0.6.4\n"
     ]
    }
   ],
   "source": [
    "print(kornia.__version__)"
   ]
  },
  {
   "cell_type": "markdown",
   "metadata": {
    "papermill": {
     "duration": 0.016772,
     "end_time": "2022-04-22T17:28:37.259611",
     "exception": false,
     "start_time": "2022-04-22T17:28:37.242839",
     "status": "completed"
    },
    "tags": []
   },
   "source": [
    "# ***Inference***"
   ]
  },
  {
   "cell_type": "code",
   "execution_count": 5,
   "metadata": {
    "execution": {
     "iopub.execute_input": "2022-04-22T17:28:37.310985Z",
     "iopub.status.busy": "2022-04-22T17:28:37.310057Z",
     "iopub.status.idle": "2022-04-22T17:28:56.056654Z",
     "shell.execute_reply": "2022-04-22T17:28:56.057266Z",
     "shell.execute_reply.started": "2022-04-14T19:01:09.844405Z"
    },
    "papermill": {
     "duration": 18.780795,
     "end_time": "2022-04-22T17:28:56.057457",
     "exception": false,
     "start_time": "2022-04-22T17:28:37.276662",
     "status": "completed"
    },
    "tags": []
   },
   "outputs": [
    {
     "name": "stdout",
     "output_type": "stream",
     "text": [
      "0\n",
      "torch.Size([1, 3, 840, 472])\n"
     ]
    },
    {
     "name": "stderr",
     "output_type": "stream",
     "text": [
      "/home/wilmer/anaconda3/envs/p37/lib/python3.7/site-packages/kornia/feature/loftr/utils/coarse_matching.py:255: UserWarning: __floordiv__ is deprecated, and its behavior will change in a future version of pytorch. It currently rounds toward 0 (like the 'trunc' function NOT 'floor'). This results in incorrect rounding for negative values. To keep the current behavior, use torch.div(a, b, rounding_mode='trunc'), or for actual floor division, use torch.div(a, b, rounding_mode='floor').\n",
      "  [i_ids % data['hw0_c'][1], i_ids // data['hw0_c'][1]],\n",
      "/home/wilmer/anaconda3/envs/p37/lib/python3.7/site-packages/kornia/feature/loftr/utils/coarse_matching.py:258: UserWarning: __floordiv__ is deprecated, and its behavior will change in a future version of pytorch. It currently rounds toward 0 (like the 'trunc' function NOT 'floor'). This results in incorrect rounding for negative values. To keep the current behavior, use torch.div(a, b, rounding_mode='trunc'), or for actual floor division, use torch.div(a, b, rounding_mode='floor').\n",
      "  [j_ids % data['hw1_c'][1], j_ids // data['hw1_c'][1]],\n",
      "/home/wilmer/anaconda3/envs/p37/lib/python3.7/site-packages/torch/functional.py:568: UserWarning: torch.meshgrid: in an upcoming release, it will be required to pass the indexing argument. (Triggered internally at  ../aten/src/ATen/native/TensorShape.cpp:2228.)\n",
      "  return _VF.meshgrid(tensors, **kwargs)  # type: ignore[attr-defined]\n"
     ]
    },
    {
     "name": "stdout",
     "output_type": "stream",
     "text": [
      "Running time:  10.988528966903687  s\n",
      "1\n",
      "torch.Size([1, 3, 840, 472])\n"
     ]
    },
    {
     "name": "stderr",
     "output_type": "stream",
     "text": [
      "/home/wilmer/anaconda3/envs/p37/lib/python3.7/site-packages/kornia/feature/loftr/utils/coarse_matching.py:255: UserWarning: __floordiv__ is deprecated, and its behavior will change in a future version of pytorch. It currently rounds toward 0 (like the 'trunc' function NOT 'floor'). This results in incorrect rounding for negative values. To keep the current behavior, use torch.div(a, b, rounding_mode='trunc'), or for actual floor division, use torch.div(a, b, rounding_mode='floor').\n",
      "  [i_ids % data['hw0_c'][1], i_ids // data['hw0_c'][1]],\n",
      "/home/wilmer/anaconda3/envs/p37/lib/python3.7/site-packages/kornia/feature/loftr/utils/coarse_matching.py:258: UserWarning: __floordiv__ is deprecated, and its behavior will change in a future version of pytorch. It currently rounds toward 0 (like the 'trunc' function NOT 'floor'). This results in incorrect rounding for negative values. To keep the current behavior, use torch.div(a, b, rounding_mode='trunc'), or for actual floor division, use torch.div(a, b, rounding_mode='floor').\n",
      "  [j_ids % data['hw1_c'][1], j_ids // data['hw1_c'][1]],\n"
     ]
    },
    {
     "name": "stdout",
     "output_type": "stream",
     "text": [
      "Running time:  10.650544881820679  s\n",
      "2\n",
      "torch.Size([1, 3, 840, 472])\n"
     ]
    },
    {
     "name": "stderr",
     "output_type": "stream",
     "text": [
      "/home/wilmer/anaconda3/envs/p37/lib/python3.7/site-packages/kornia/feature/loftr/utils/coarse_matching.py:255: UserWarning: __floordiv__ is deprecated, and its behavior will change in a future version of pytorch. It currently rounds toward 0 (like the 'trunc' function NOT 'floor'). This results in incorrect rounding for negative values. To keep the current behavior, use torch.div(a, b, rounding_mode='trunc'), or for actual floor division, use torch.div(a, b, rounding_mode='floor').\n",
      "  [i_ids % data['hw0_c'][1], i_ids // data['hw0_c'][1]],\n",
      "/home/wilmer/anaconda3/envs/p37/lib/python3.7/site-packages/kornia/feature/loftr/utils/coarse_matching.py:258: UserWarning: __floordiv__ is deprecated, and its behavior will change in a future version of pytorch. It currently rounds toward 0 (like the 'trunc' function NOT 'floor'). This results in incorrect rounding for negative values. To keep the current behavior, use torch.div(a, b, rounding_mode='trunc'), or for actual floor division, use torch.div(a, b, rounding_mode='floor').\n",
      "  [j_ids % data['hw1_c'][1], j_ids // data['hw1_c'][1]],\n"
     ]
    },
    {
     "name": "stdout",
     "output_type": "stream",
     "text": [
      "Running time:  12.55447006225586  s\n"
     ]
    }
   ],
   "source": [
    "F_dict = {}\n",
    "\n",
    "for i, row in enumerate(test_samples):\n",
    "    print(i)\n",
    "    sample_id, batch_id, image_1_id, image_2_id = row\n",
    "    # Load the images.\n",
    "    st = time.time()\n",
    "    image_1 = load_torch_image(f'{src}/test_images/{batch_id}/{image_1_id}.png')\n",
    "    image_2 = load_torch_image(f'{src}/test_images/{batch_id}/{image_2_id}.png')\n",
    "    \n",
    "    \n",
    "    print(image_1.shape)\n",
    "    input_dict = {\"image0\": K.color.rgb_to_grayscale(image_1), \n",
    "              \"image1\": K.color.rgb_to_grayscale(image_2)}\n",
    "\n",
    "    with torch.no_grad():\n",
    "        correspondences = matcher(input_dict)\n",
    "        \n",
    "    mkpts0 = correspondences['keypoints0'].numpy()\n",
    "    mkpts1 = correspondences['keypoints1'].numpy()\n",
    "    \n",
    "    if len(mkpts0) > 7:\n",
    "        #F, inliers = cv2.findFundamentalMat(mkpts0, mkpts1, cv2.USAC_MAGSAC, 0.25, 0.9999, 100000)\n",
    "        #F, inliers = cv2.findFundamentalMat(mkpts0, mkpts1, cv2.USAC_MAGSAC, 0.1845, 0.999999, 220000)\n",
    "        F = linearRegresionF(mkpts0, mkpts1)\n",
    "        assert F.shape == (3, 3), 'Malformed F?'\n",
    "        F_dict[sample_id] = F\n",
    "    else:\n",
    "        F_dict[sample_id] = np.zeros((3, 3))\n",
    "        continue\n",
    "    gc.collect()\n",
    "    nd = time.time()    \n",
    "    if (i < 3):\n",
    "        print(\"Running time: \", nd - st, \" s\")\n",
    "    \n",
    "with open('submission.csv', 'w') as f:\n",
    "    f.write('sample_id,fundamental_matrix\\n')\n",
    "    for sample_id, F in F_dict.items():\n",
    "        f.write(f'{sample_id},{FlattenMatrix(F)}\\n')"
   ]
  },
  {
   "cell_type": "code",
   "execution_count": 6,
   "metadata": {},
   "outputs": [],
   "source": [
    "onec = np.ones((mkpts0.shape[0],1))\n",
    "mkpts0 = np.concatenate((mkpts0,onec),axis=1)\n",
    "mkpts1 = np.concatenate((mkpts1,onec),axis=1)"
   ]
  },
  {
   "cell_type": "code",
   "execution_count": 7,
   "metadata": {},
   "outputs": [
    {
     "data": {
      "text/plain": [
       "[0.0,\n",
       " 0.0,\n",
       " 0.0,\n",
       " 0.0,\n",
       " 0.0,\n",
       " 0.0,\n",
       " 0.0,\n",
       " 0.0,\n",
       " 0.0,\n",
       " 0.0,\n",
       " 0.0,\n",
       " 0.0,\n",
       " 0.0,\n",
       " 0.0,\n",
       " 0.0,\n",
       " 0.0,\n",
       " 0.0,\n",
       " 0.0,\n",
       " 0.0,\n",
       " 0.0,\n",
       " 0.0,\n",
       " 0.0,\n",
       " 0.0,\n",
       " 0.0,\n",
       " 0.0,\n",
       " 0.0,\n",
       " 0.0,\n",
       " 0.0,\n",
       " 0.0,\n",
       " 0.0,\n",
       " 0.0,\n",
       " 0.0,\n",
       " 0.0,\n",
       " 0.0,\n",
       " 0.0,\n",
       " 0.0,\n",
       " 0.0,\n",
       " 0.0,\n",
       " 0.0,\n",
       " 0.0,\n",
       " 0.0,\n",
       " 0.0,\n",
       " 0.0,\n",
       " 0.0,\n",
       " 0.0,\n",
       " 0.0,\n",
       " 0.0,\n",
       " 0.0,\n",
       " 0.0,\n",
       " 0.0,\n",
       " 0.0,\n",
       " 0.0,\n",
       " 0.0,\n",
       " 0.0,\n",
       " 0.0,\n",
       " 0.0,\n",
       " 0.0,\n",
       " 0.0,\n",
       " 0.0,\n",
       " 0.0,\n",
       " 0.0,\n",
       " 0.0,\n",
       " 0.0,\n",
       " 0.0,\n",
       " 0.0,\n",
       " 0.0,\n",
       " 0.0,\n",
       " 0.0,\n",
       " 0.0,\n",
       " 0.0,\n",
       " 0.0,\n",
       " 0.0,\n",
       " 0.0,\n",
       " 0.0,\n",
       " 0.0,\n",
       " 0.0,\n",
       " 0.0,\n",
       " 0.0,\n",
       " 0.0,\n",
       " 0.0,\n",
       " 0.0,\n",
       " 0.0,\n",
       " 0.0,\n",
       " 0.0,\n",
       " 0.0,\n",
       " 0.0,\n",
       " 0.0,\n",
       " 0.0,\n",
       " 0.0,\n",
       " 0.0,\n",
       " 0.0,\n",
       " 0.0,\n",
       " 0.0,\n",
       " 0.0,\n",
       " 0.0,\n",
       " 0.0,\n",
       " 0.0,\n",
       " 0.0,\n",
       " 0.0,\n",
       " 0.0,\n",
       " 0.0,\n",
       " 0.0,\n",
       " 0.0,\n",
       " 0.0,\n",
       " 0.0,\n",
       " 0.0,\n",
       " 0.0,\n",
       " 0.0,\n",
       " 0.0,\n",
       " 0.0,\n",
       " 0.0,\n",
       " 0.0,\n",
       " 0.0,\n",
       " 0.0,\n",
       " 0.0,\n",
       " 0.0,\n",
       " 0.0,\n",
       " 0.0,\n",
       " 0.0,\n",
       " 0.0,\n",
       " 0.0,\n",
       " 0.0,\n",
       " 0.0,\n",
       " 0.0,\n",
       " 0.0,\n",
       " 0.0,\n",
       " 0.0,\n",
       " 0.0,\n",
       " 0.0,\n",
       " 0.0,\n",
       " 0.0,\n",
       " 0.0,\n",
       " 0.0,\n",
       " 0.0,\n",
       " 0.0,\n",
       " 0.0,\n",
       " 0.0,\n",
       " 0.0,\n",
       " 0.0,\n",
       " 0.0,\n",
       " 0.0,\n",
       " 0.0,\n",
       " 0.0,\n",
       " 0.0,\n",
       " 0.0,\n",
       " 0.0,\n",
       " 0.0,\n",
       " 0.0,\n",
       " 0.0,\n",
       " 0.0,\n",
       " 0.0,\n",
       " 0.0,\n",
       " 0.0,\n",
       " 0.0,\n",
       " 0.0,\n",
       " 0.0,\n",
       " 0.0,\n",
       " 0.0,\n",
       " 0.0,\n",
       " 0.0,\n",
       " 0.0,\n",
       " 0.0,\n",
       " 0.0,\n",
       " 0.0,\n",
       " 0.0,\n",
       " 0.0,\n",
       " 0.0,\n",
       " 0.0,\n",
       " 0.0,\n",
       " 0.0,\n",
       " 0.0,\n",
       " 0.0,\n",
       " 0.0,\n",
       " 0.0,\n",
       " 0.0,\n",
       " 0.0,\n",
       " 0.0,\n",
       " 0.0,\n",
       " 0.0,\n",
       " 0.0,\n",
       " 0.0,\n",
       " 0.0,\n",
       " 0.0,\n",
       " 0.0,\n",
       " 0.0,\n",
       " 0.0,\n",
       " 0.0,\n",
       " 0.0,\n",
       " 0.0,\n",
       " 0.0,\n",
       " 0.0,\n",
       " 0.0,\n",
       " 0.0,\n",
       " 0.0,\n",
       " 0.0,\n",
       " 0.0,\n",
       " 0.0,\n",
       " 0.0,\n",
       " 0.0,\n",
       " 0.0,\n",
       " 0.0,\n",
       " 0.0,\n",
       " 0.0,\n",
       " 0.0,\n",
       " 0.0,\n",
       " 0.0,\n",
       " 0.0,\n",
       " 0.0,\n",
       " 0.0,\n",
       " 0.0,\n",
       " 0.0,\n",
       " 0.0,\n",
       " 0.0,\n",
       " 0.0,\n",
       " 0.0,\n",
       " 0.0,\n",
       " 0.0,\n",
       " 0.0,\n",
       " 0.0,\n",
       " 0.0,\n",
       " 0.0,\n",
       " 0.0,\n",
       " 0.0,\n",
       " 0.0,\n",
       " 0.0,\n",
       " 0.0,\n",
       " 0.0,\n",
       " 0.0,\n",
       " 0.0,\n",
       " 0.0,\n",
       " 0.0,\n",
       " 0.0,\n",
       " 0.0,\n",
       " 0.0,\n",
       " 0.0,\n",
       " 0.0,\n",
       " 0.0,\n",
       " 0.0]"
      ]
     },
     "execution_count": 7,
     "metadata": {},
     "output_type": "execute_result"
    }
   ],
   "source": [
    "[mkpts1[i,:]@F@mkpts0[i,:].T for i in range(mkpts0.shape[0])]"
   ]
  },
  {
   "cell_type": "code",
   "execution_count": null,
   "metadata": {},
   "outputs": [],
   "source": []
  }
 ],
 "metadata": {
  "kernelspec": {
   "display_name": "Python 3",
   "language": "python",
   "name": "python3"
  },
  "language_info": {
   "codemirror_mode": {
    "name": "ipython",
    "version": 3
   },
   "file_extension": ".py",
   "mimetype": "text/x-python",
   "name": "python",
   "nbconvert_exporter": "python",
   "pygments_lexer": "ipython3",
   "version": "3.7.9"
  },
  "papermill": {
   "default_parameters": {},
   "duration": 101.798741,
   "end_time": "2022-04-22T17:28:58.956752",
   "environment_variables": {},
   "exception": null,
   "input_path": "__notebook__.ipynb",
   "output_path": "__notebook__.ipynb",
   "parameters": {},
   "start_time": "2022-04-22T17:27:17.158011",
   "version": "2.3.3"
  }
 },
 "nbformat": 4,
 "nbformat_minor": 5
}
