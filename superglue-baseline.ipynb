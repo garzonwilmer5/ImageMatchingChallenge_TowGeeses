{
 "cells": [
  {
   "cell_type": "code",
   "execution_count": 1,
   "metadata": {
    "_cell_guid": "b1076dfc-b9ad-4769-8c92-a6c4dae69d19",
    "_uuid": "8f2839f25d086af736a60e9eeb907d3b93b6e0e5",
    "execution": {
     "iopub.execute_input": "2022-05-09T17:26:58.539947Z",
     "iopub.status.busy": "2022-05-09T17:26:58.532153Z",
     "iopub.status.idle": "2022-05-09T17:27:00.383619Z",
     "shell.execute_reply": "2022-05-09T17:27:00.384617Z",
     "shell.execute_reply.started": "2022-05-09T17:24:38.739230Z"
    },
    "papermill": {
     "duration": 1.863678,
     "end_time": "2022-05-09T17:27:00.384991",
     "exception": false,
     "start_time": "2022-05-09T17:26:58.521313",
     "status": "completed"
    },
    "tags": []
   },
   "outputs": [],
   "source": [
    "import os\n",
    "import csv\n",
    "import random\n",
    "from glob import glob\n",
    "from tqdm import tqdm\n",
    "from collections import namedtuple\n",
    "\n",
    "import cv2\n",
    "import numpy as np\n",
    "import pandas as pd\n",
    "import matplotlib\n",
    "import matplotlib.pyplot as plt\n",
    "import matplotlib.cm as cm\n",
    "import torch\n",
    "\n",
    "import sys\n",
    "sys.path.append(\"../input/super-glue-pretrained-network\")\n",
    "from models.matching import Matching\n",
    "from models.utils import (compute_pose_error, compute_epipolar_error,\n",
    "                          estimate_pose, make_matching_plot,\n",
    "                          error_colormap, AverageTimer, pose_auc, read_image,\n",
    "                          rotate_intrinsics, rotate_pose_inplane,\n",
    "                          scale_intrinsics)"
   ]
  },
  {
   "cell_type": "code",
   "execution_count": 2,
   "metadata": {
    "execution": {
     "iopub.execute_input": "2022-05-09T17:27:00.411901Z",
     "iopub.status.busy": "2022-05-09T17:27:00.410772Z",
     "iopub.status.idle": "2022-05-09T17:27:00.439895Z",
     "shell.execute_reply": "2022-05-09T17:27:00.440481Z",
     "shell.execute_reply.started": "2022-05-09T17:24:40.582480Z"
    },
    "papermill": {
     "duration": 0.045351,
     "end_time": "2022-05-09T17:27:00.440667",
     "exception": false,
     "start_time": "2022-05-09T17:27:00.395316",
     "status": "completed"
    },
    "tags": []
   },
   "outputs": [
    {
     "data": {
      "text/html": [
       "<div>\n",
       "<style scoped>\n",
       "    .dataframe tbody tr th:only-of-type {\n",
       "        vertical-align: middle;\n",
       "    }\n",
       "\n",
       "    .dataframe tbody tr th {\n",
       "        vertical-align: top;\n",
       "    }\n",
       "\n",
       "    .dataframe thead th {\n",
       "        text-align: right;\n",
       "    }\n",
       "</style>\n",
       "<table border=\"1\" class=\"dataframe\">\n",
       "  <thead>\n",
       "    <tr style=\"text-align: right;\">\n",
       "      <th></th>\n",
       "      <th>sample_id</th>\n",
       "      <th>batch_id</th>\n",
       "      <th>image_1_id</th>\n",
       "      <th>image_2_id</th>\n",
       "    </tr>\n",
       "  </thead>\n",
       "  <tbody>\n",
       "    <tr>\n",
       "      <th>0</th>\n",
       "      <td>googleurban;1cf87530;a5a9975574c94ff9a285f58c3...</td>\n",
       "      <td>1cf87530</td>\n",
       "      <td>a5a9975574c94ff9a285f58c39b53d2c</td>\n",
       "      <td>0143f47ee9e54243a1b8454f3e91621a</td>\n",
       "    </tr>\n",
       "    <tr>\n",
       "      <th>1</th>\n",
       "      <td>googleurban;6ceaefff;39563e58b2b7411da3f06427c...</td>\n",
       "      <td>6ceaefff</td>\n",
       "      <td>39563e58b2b7411da3f06427c9ee4239</td>\n",
       "      <td>0303b05ca0cb46959eac430e4b2472ca</td>\n",
       "    </tr>\n",
       "    <tr>\n",
       "      <th>2</th>\n",
       "      <td>googleurban;d91db836;81dd07fb7b9a4e01996cee637...</td>\n",
       "      <td>d91db836</td>\n",
       "      <td>81dd07fb7b9a4e01996cee637f91ca1a</td>\n",
       "      <td>0006b1337a0347f49b4e651c035dfa0e</td>\n",
       "    </tr>\n",
       "  </tbody>\n",
       "</table>\n",
       "</div>"
      ],
      "text/plain": [
       "                                           sample_id  batch_id  \\\n",
       "0  googleurban;1cf87530;a5a9975574c94ff9a285f58c3...  1cf87530   \n",
       "1  googleurban;6ceaefff;39563e58b2b7411da3f06427c...  6ceaefff   \n",
       "2  googleurban;d91db836;81dd07fb7b9a4e01996cee637...  d91db836   \n",
       "\n",
       "                         image_1_id                        image_2_id  \n",
       "0  a5a9975574c94ff9a285f58c39b53d2c  0143f47ee9e54243a1b8454f3e91621a  \n",
       "1  39563e58b2b7411da3f06427c9ee4239  0303b05ca0cb46959eac430e4b2472ca  \n",
       "2  81dd07fb7b9a4e01996cee637f91ca1a  0006b1337a0347f49b4e651c035dfa0e  "
      ]
     },
     "execution_count": 2,
     "metadata": {},
     "output_type": "execute_result"
    }
   ],
   "source": [
    "src = '/kaggle/input/image-matching-challenge-2022/'\n",
    "\n",
    "test_samples = []\n",
    "with open(f'{src}/test.csv') as f:\n",
    "    reader = csv.reader(f, delimiter=',')\n",
    "    for i, row in enumerate(reader):\n",
    "        # Skip header.\n",
    "        if i == 0:\n",
    "            continue\n",
    "        test_samples += [row]\n",
    "test_samples_df = pd.DataFrame(test_samples, columns=[\"sample_id\", \"batch_id\", \"image_1_id\", \"image_2_id\"])\n",
    "test_samples_df"
   ]
  },
  {
   "cell_type": "code",
   "execution_count": 3,
   "metadata": {
    "execution": {
     "iopub.execute_input": "2022-05-09T17:27:00.538696Z",
     "iopub.status.busy": "2022-05-09T17:27:00.537927Z",
     "iopub.status.idle": "2022-05-09T17:27:04.317246Z",
     "shell.execute_reply": "2022-05-09T17:27:04.316336Z",
     "shell.execute_reply.started": "2022-05-09T17:24:40.624063Z"
    },
    "papermill": {
     "duration": 3.864888,
     "end_time": "2022-05-09T17:27:04.317387",
     "exception": false,
     "start_time": "2022-05-09T17:27:00.452499",
     "status": "completed"
    },
    "tags": []
   },
   "outputs": [
    {
     "name": "stdout",
     "output_type": "stream",
     "text": [
      "Loaded SuperPoint model\n",
      "Loaded SuperGlue model (\"outdoor\" weights)\n"
     ]
    }
   ],
   "source": [
    "device = \"cuda\" if torch.cuda.is_available() else \"cpu\"\n",
    "resize = [-1, ]\n",
    "resize_float = True\n",
    "\n",
    "config = {\n",
    "    \"superpoint\": {\n",
    "        \"nms_radius\": 4,\n",
    "        \"keypoint_threshold\": 0.005,\n",
    "        \"max_keypoints\": 1024\n",
    "    },\n",
    "    \"superglue\": {\n",
    "        \"weights\": \"outdoor\",\n",
    "        \"sinkhorn_iterations\": 20,\n",
    "        \"match_threshold\": 0.2,\n",
    "    }\n",
    "}\n",
    "matching = Matching(config).eval().to(device)"
   ]
  },
  {
   "cell_type": "code",
   "execution_count": 4,
   "metadata": {
    "execution": {
     "iopub.execute_input": "2022-05-09T17:27:04.341148Z",
     "iopub.status.busy": "2022-05-09T17:27:04.340277Z",
     "iopub.status.idle": "2022-05-09T17:27:14.222999Z",
     "shell.execute_reply": "2022-05-09T17:27:14.223683Z",
     "shell.execute_reply.started": "2022-05-09T17:24:44.435562Z"
    },
    "papermill": {
     "duration": 9.899426,
     "end_time": "2022-05-09T17:27:14.223888",
     "exception": false,
     "start_time": "2022-05-09T17:27:04.324462",
     "status": "completed"
    },
    "tags": []
   },
   "outputs": [
    {
     "name": "stderr",
     "output_type": "stream",
     "text": [
      "3it [00:09,  3.29s/it]\n"
     ]
    }
   ],
   "source": [
    "F_dict = {}\n",
    "for i, row in tqdm(enumerate(test_samples)):\n",
    "    sample_id, batch_id, image_1_id, image_2_id = row\n",
    "    \n",
    "    image_fpath_1 = f'{src}/test_images/{batch_id}/{image_1_id}.png'\n",
    "    image_fpath_2 = f'{src}/test_images/{batch_id}/{image_2_id}.png'\n",
    "    \n",
    "    image_1, inp_1, scales_1 = read_image(image_fpath_1, device, resize, 0, resize_float)\n",
    "    image_2, inp_2, scales_2 = read_image(image_fpath_2, device, resize, 0, resize_float)\n",
    "    \n",
    "    pred = matching({\"image0\": inp_1, \"image1\": inp_2})\n",
    "    pred = {k: v[0].detach().cpu().numpy() for k, v in pred.items()}\n",
    "    kpts1, kpts2 = pred[\"keypoints0\"], pred[\"keypoints1\"]\n",
    "    matches, conf = pred[\"matches0\"], pred[\"matching_scores0\"]\n",
    "\n",
    "    valid = matches > -1\n",
    "    mkpts1 = kpts1[valid]\n",
    "    mkpts2 = kpts2[matches[valid]]\n",
    "    mconf = conf[valid]\n",
    "    \n",
    "    if len(mkpts1) > 8:\n",
    "        F, inlier_mask = cv2.findFundamentalMat(mkpts1, mkpts2, cv2.USAC_MAGSAC, 0.1845, 0.999999, 220000)\n",
    "        F_dict[sample_id] = F\n",
    "    else:\n",
    "        F_dict[sample_id] = np.zeros((3, 3))"
   ]
  },
  {
   "cell_type": "code",
   "execution_count": 5,
   "metadata": {
    "execution": {
     "iopub.execute_input": "2022-05-09T17:27:14.247812Z",
     "iopub.status.busy": "2022-05-09T17:27:14.247251Z",
     "iopub.status.idle": "2022-05-09T17:27:14.250570Z",
     "shell.execute_reply": "2022-05-09T17:27:14.250975Z",
     "shell.execute_reply.started": "2022-05-09T17:24:53.931204Z"
    },
    "papermill": {
     "duration": 0.017868,
     "end_time": "2022-05-09T17:27:14.251112",
     "exception": false,
     "start_time": "2022-05-09T17:27:14.233244",
     "status": "completed"
    },
    "tags": []
   },
   "outputs": [],
   "source": [
    "def FlattenMatrix(M, num_digits=8):\n",
    "    '''Convenience function to write CSV files.'''\n",
    "    return ' '.join([f'{v:.{num_digits}e}' for v in M.flatten()])\n",
    "\n",
    "with open('submission.csv', 'w') as f:\n",
    "    f.write('sample_id,fundamental_matrix\\n')\n",
    "    for sample_id, F in F_dict.items():\n",
    "        f.write(f'{sample_id},{FlattenMatrix(F)}\\n')"
   ]
  }
 ],
 "metadata": {
  "kernelspec": {
   "display_name": "Python 3",
   "language": "python",
   "name": "python3"
  },
  "language_info": {
   "codemirror_mode": {
    "name": "ipython",
    "version": 3
   },
   "file_extension": ".py",
   "mimetype": "text/x-python",
   "name": "python",
   "nbconvert_exporter": "python",
   "pygments_lexer": "ipython3",
   "version": "3.7.9"
  },
  "papermill": {
   "default_parameters": {},
   "duration": 25.09934,
   "end_time": "2022-05-09T17:27:15.469253",
   "environment_variables": {},
   "exception": null,
   "input_path": "__notebook__.ipynb",
   "output_path": "__notebook__.ipynb",
   "parameters": {},
   "start_time": "2022-05-09T17:26:50.369913",
   "version": "2.3.3"
  }
 },
 "nbformat": 4,
 "nbformat_minor": 5
}
